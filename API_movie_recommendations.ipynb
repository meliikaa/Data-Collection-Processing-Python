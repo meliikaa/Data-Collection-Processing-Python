{
  "nbformat": 4,
  "nbformat_minor": 0,
  "metadata": {
    "colab": {
      "provenance": []
    },
    "kernelspec": {
      "name": "python3",
      "display_name": "Python 3"
    },
    "language_info": {
      "name": "python"
    }
  },
  "cells": [
    {
      "cell_type": "markdown",
      "source": [
        "1) The TasteDive API lets you provide a movie (or bands, TV shows, etc.) as a query input, and returns a set of related items.\n",
        "\n",
        "2) The OMDB API lets you provide a movie title as a query input and get back data about the movie, including scores from various review sites (Rotten Tomatoes, IMDB, etc.).\n",
        "\n",
        "You will put those two together. You will use TasteDive to get related movies for a whole list of titles. You’ll combine the resulting lists of related movies, and sort them according to their Rotten Tomatoes scores (which will require making API calls to the OMDB API.)\n",
        "\n",
        "\n",
        "Documentation https://tastedive.com/read/api\n",
        "\n",
        "Documentation https://www.omdbapi.com/"
      ],
      "metadata": {
        "id": "HjvfRQsVHN7e"
      }
    },
    {
      "cell_type": "code",
      "execution_count": null,
      "metadata": {
        "id": "bz3shXSAFiQv"
      },
      "outputs": [],
      "source": [
        "import requests_with_caching\n",
        "# some invocations that we use in the automated tests; uncomment these if you are getting errors and want better error messages\n",
        "# get_movies_from_tastedive(\"Bridesmaids\")\n",
        "# get_movies_from_tastedive(\"Black Panther\")\n",
        "#name_movie = input(\"Enter the name of the movie:\")\n",
        "\n",
        "def get_movies_from_tastedive (name_movie):\n",
        "    dictio = {}\n",
        "    #nput parameter, a string that is the name of a movie or music artist\n",
        "    dictio['q']= name_movie\n",
        "    dictio['limit'] = 5\n",
        "    dictio['type'] = 'movie'\n",
        "    request_from=requests_with_caching.get('https://tastedive.com/api/similar', params=dictio)\n",
        "    print(request_from.url)\n",
        "    return request_from\n",
        "get_movies_from_tastedive(\"Black Panther\")\n",
        "import requests_with_caching\n",
        "\n",
        "def get_movies_from_tastedive(movie):\n",
        "    base_url = \"https://tastedive.com/api/similar\"\n",
        "    params = {\n",
        "        \"q\": movie,\n",
        "        \"type\": \"movies\",\n",
        "        \"limit\": 5\n",
        "    }\n",
        "    response = requests_with_caching.get(base_url, params=params)\n",
        "    data = response.json()\n",
        "    return data\n",
        "\n",
        "# Example usage\n",
        "#movie = input('Please enter a movie name')\n",
        "movie = \"Black Panther\"\n",
        "tastedive_results = get_movies_from_tastedive(movie)\n",
        "print(tastedive_results)"
      ]
    },
    {
      "cell_type": "markdown",
      "source": [
        "Please copy the completed function from above into this active code window. Next, you will need to write a function that extracts just the list of movie titles from a dictionary returned by get_movies_from_tastedive. Call it extract_movie_titles."
      ],
      "metadata": {
        "id": "COyfW6_VfK_F"
      }
    },
    {
      "cell_type": "code",
      "source": [
        "import requests_with_caching\n",
        "\n",
        "def get_movies_from_tastedive(movie):\n",
        "    base_url = \"https://tastedive.com/api/similar\"\n",
        "    params = {\n",
        "        \"q\": movie,\n",
        "        \"type\": \"movies\",\n",
        "        \"limit\": 5\n",
        "    }\n",
        "    response = requests_with_caching.get(base_url, params=params)\n",
        "    data = response.json()\n",
        "\n",
        "    return data\n",
        "\n",
        "\n",
        "\n",
        "def extract_movie_titles (data):\n",
        "    name_list = []\n",
        "    i = 0\n",
        "    Temp = (data['Similar']['Results'])\n",
        "    while i < 5:\n",
        "        for item in Temp:\n",
        "            name_list.append(item['Name'])\n",
        "            i +=1\n",
        "    return name_list\n"
      ],
      "metadata": {
        "id": "zo8Ddkh7fMeW"
      },
      "execution_count": null,
      "outputs": []
    },
    {
      "cell_type": "markdown",
      "source": [
        "Please copy the completed functions from the two code windows above into this active code window. Next, you’ll write a function, called get_related_titles. It takes a list of movie titles as input. It gets five related movies for each from TasteDive, extracts the titles for all of them, and combines them all into a single list. Don’t include the same movie twice."
      ],
      "metadata": {
        "id": "VBGivQ2-fPSt"
      }
    },
    {
      "cell_type": "code",
      "source": [
        "\n",
        "# some invocations that we use in the automated tests; uncomment these if you are getting errors and want better error messages\n",
        "# get_related_titles([\"Black Panther\", \"Captain Marvel\"])\n",
        "# get_related_titles([])\n",
        "import requests_with_caching\n",
        "\n",
        "def get_movies_from_tastedive(movie):\n",
        "    base_url = \"https://tastedive.com/api/similar\"\n",
        "    params = {\n",
        "        \"q\": movie,\n",
        "        \"type\": \"movies\",\n",
        "        \"limit\": 5\n",
        "    }\n",
        "    response = requests_with_caching.get(base_url, params=params)\n",
        "    data = response.json()\n",
        "\n",
        "    return data\n",
        "\n",
        "\n",
        "\n",
        "def extract_movie_titles (data):\n",
        "    name_list = []\n",
        "    i = 0\n",
        "    Temp = (data['Similar']['Results'])\n",
        "    while i < 5:\n",
        "        for item in Temp:\n",
        "            name_list.append(item['Name'])\n",
        "            i +=1\n",
        "    return name_list\n",
        "import requests_with_caching\n",
        "\n",
        "def get_related_titles(movie_list):\n",
        "    base_url = \"https://tastedive.com/api/similar\"\n",
        "    sim_list = []\n",
        "\n",
        "    for movie in movie_list:\n",
        "        params = {\n",
        "            \"q\": movie,\n",
        "            \"type\": \"movies\",\n",
        "            \"limit\": 5\n",
        "        }\n",
        "\n",
        "        response = requests_with_caching.get(base_url, params=params)\n",
        "        data = response.json()\n",
        "\n",
        "        temp = data['Similar']['Results']\n",
        "\n",
        "        for item in temp:\n",
        "            if item['Name'] not in sim_list:\n",
        "                sim_list.append(item['Name'])\n",
        "\n",
        "    return sim_list\n",
        "\n"
      ],
      "metadata": {
        "id": "V4hExvSCmWne"
      },
      "execution_count": null,
      "outputs": []
    },
    {
      "cell_type": "markdown",
      "source": [
        "Define a function called get_movie_data. It takes in one parameter which is a string that should represent the title of a movie you want to search. The function should return a dictionary with information about that movie."
      ],
      "metadata": {
        "id": "gXcb2ydYRIza"
      }
    },
    {
      "cell_type": "code",
      "source": [
        "#import requests_with_caching\n",
        "import requests\n",
        "def get_movie_data (movie_title):\n",
        "    base_url = 'http://www.omdbapi.com/'\n",
        "    param = {}\n",
        "    param['apikey'] = 'your key'\n",
        "    param['t'] = movie_title\n",
        "    param['r'] = 'json'\n",
        "    response_movie = requests.get(base_url, params= param)\n",
        "    print(response_movie.url)\n",
        "    returned_data = response_movie.json()\n",
        "    return returned_data\n",
        "get_movie_data(\"Baby Mama\")"
      ],
      "metadata": {
        "colab": {
          "base_uri": "https://localhost:8080/"
        },
        "id": "qq29r8tIRI9g",
        "outputId": "fe3d9ed5-5e9e-4027-c890-257e39919a14"
      },
      "execution_count": null,
      "outputs": [
        {
          "output_type": "stream",
          "name": "stdout",
          "text": [
            "http://www.omdbapi.com/?apikey=fc9e1871&t=Baby+Mama&r=json\n"
          ]
        },
        {
          "output_type": "execute_result",
          "data": {
            "text/plain": [
              "{'Title': 'Baby Mama',\n",
              " 'Year': '2008',\n",
              " 'Rated': 'PG-13',\n",
              " 'Released': '25 Apr 2008',\n",
              " 'Runtime': '99 min',\n",
              " 'Genre': 'Comedy, Romance',\n",
              " 'Director': 'Michael McCullers',\n",
              " 'Writer': 'Michael McCullers',\n",
              " 'Actors': 'Tina Fey, Amy Poehler, Sigourney Weaver',\n",
              " 'Plot': 'A successful, single businesswoman who dreams of having a baby discovers she is infertile and hires a working class woman to be her unlikely surrogate.',\n",
              " 'Language': 'English',\n",
              " 'Country': 'United States',\n",
              " 'Awards': '1 win & 5 nominations',\n",
              " 'Poster': 'https://m.media-amazon.com/images/M/MV5BMTYwNTc1Nzk1N15BMl5BanBnXkFtZTcwNjE4OTI2MQ@@._V1_SX300.jpg',\n",
              " 'Ratings': [{'Source': 'Internet Movie Database', 'Value': '6.0/10'},\n",
              "  {'Source': 'Rotten Tomatoes', 'Value': '63%'},\n",
              "  {'Source': 'Metacritic', 'Value': '55/100'}],\n",
              " 'Metascore': '55',\n",
              " 'imdbRating': '6.0',\n",
              " 'imdbVotes': '46,278',\n",
              " 'imdbID': 'tt0871426',\n",
              " 'Type': 'movie',\n",
              " 'DVD': '14 Apr 2009',\n",
              " 'BoxOffice': '$60,494,212',\n",
              " 'Production': 'N/A',\n",
              " 'Website': 'N/A',\n",
              " 'Response': 'True'}"
            ]
          },
          "metadata": {},
          "execution_count": 4
        }
      ]
    },
    {
      "cell_type": "markdown",
      "source": [
        "Please copy the completed function from above into this active code window. Now write a function called get_movie_rating. It takes an OMDB dictionary result for one movie and extracts the Rotten Tomatoes rating as an integer. For example, if given the OMDB dictionary for “Black Panther”, it would return 97. If there is no Rotten Tomatoes rating, return 0."
      ],
      "metadata": {
        "id": "FZ_ejBA7ZU26"
      }
    },
    {
      "cell_type": "code",
      "source": [
        "import requests_with_caching\n",
        "def get_movie_data (movie_title):\n",
        "    base_url = 'http://www.omdbapi.com/'\n",
        "    param = {}\n",
        "    #param['apikey'] = fc9e1871\n",
        "    param['t'] = movie_title\n",
        "    param['r'] = 'json'\n",
        "    response_movie = requests_with_caching.get(base_url, params= param)\n",
        "    print(response_movie.url)\n",
        "    returned_data = response_movie.json()\n",
        "    #print (returned_data)\n",
        "    return returned_data\n",
        "def get_movie_rating (returned_data):\n",
        "    for i in range(len(returned_data['Ratings'])):\n",
        "        if 'Rotten Tomatoes' in returned_data['Ratings'][i]['Source']:\n",
        "            score = returned_data['Ratings'][i]['Value']\n",
        "            score_RT = int(score.replace('%', ''))\n",
        "            return score_RT\n",
        "\n",
        "    return 0\n",
        "get_movie_rating(get_movie_data(\"Deadpool 2\"))"
      ],
      "metadata": {
        "id": "PYDURvy8ZVBB"
      },
      "execution_count": null,
      "outputs": []
    },
    {
      "cell_type": "markdown",
      "source": [
        " Define a function get_sorted_recommendations. It takes a list of movie titles as an input. It returns a sorted list of related movie titles as output, up to five related movies for each input movie title. The movies should be sorted in descending order by their Rotten Tomatoes rating, as returned by the get_movie_rating function"
      ],
      "metadata": {
        "id": "uri9xIzqZX1u"
      }
    },
    {
      "cell_type": "code",
      "source": [
        "import requests_with_caching\n",
        "\n",
        "def get_movies_from_tastedive(movie):\n",
        "    listed_names = []\n",
        "    base_url = \"https://tastedive.com/api/similar\"\n",
        "    params = {\n",
        "        \"q\": movie,\n",
        "        \"type\": \"movies\",\n",
        "        \"limit\": 5\n",
        "    }\n",
        "    response = requests_with_caching.get(base_url, params=params)\n",
        "    data = response.json()\n",
        "    temp = (data['Similar']['Results'])\n",
        "\n",
        "    for item in temp:\n",
        "        listed_names.append((item['Name']))\n",
        "    return listed_names\n",
        "def get_movie_data (movie_title):\n",
        "    base_url = 'http://www.omdbapi.com/'\n",
        "    param = {}\n",
        "    #param['apikey'] = fc9e1871\n",
        "    param['t'] = movie_title\n",
        "    param['r'] = 'json'\n",
        "    response_movie = requests_with_caching.get(base_url, params= param)\n",
        "    #print(response_movie.url)\n",
        "    returned_data = response_movie.json()\n",
        "    return returned_data\n",
        "def get_movie_rating (returned_data):\n",
        "    for i in range(len(returned_data['Ratings'])):\n",
        "        if 'Rotten Tomatoes' in returned_data['Ratings'][i]['Source']:\n",
        "            score = returned_data['Ratings'][i]['Value']\n",
        "            score_RT = int(score.replace('%', ''))\n",
        "            return score_RT\n",
        "\n",
        "    return 0\n",
        "def get_sorted_recommendations(movie_title_sort):\n",
        "    score_list = {}\n",
        "    for movie_title in movie_title_sort:\n",
        "        print(movie_title)\n",
        "        related_name_list = get_movies_from_tastedive(movie_title)\n",
        "        print(related_name_list)\n",
        "        for item in related_name_list:\n",
        "            movies_data = get_movie_data(item)\n",
        "            score_list[item] = get_movie_rating(movies_data)\n",
        "        sorted_movies = sorted(score_list, key=score_list.get, reverse=True)\n",
        "        print(sorted_movies)\n",
        "    return sorted_movies\n",
        "\n",
        "get_sorted_recommendations([\"Bridesmaids\", \"Sherlock Holmes\"])\n",
        ""
      ],
      "metadata": {
        "colab": {
          "base_uri": "https://localhost:8080/"
        },
        "id": "yGP9PiLwiuSr",
        "outputId": "f6363dad-dc68-4ad5-971b-90a69020bd1b"
      },
      "execution_count": null,
      "outputs": [
        {
          "output_type": "stream",
          "name": "stdout",
          "text": [
            "['sister', 'baba', 'mama']\n"
          ]
        }
      ]
    }
  ]
}
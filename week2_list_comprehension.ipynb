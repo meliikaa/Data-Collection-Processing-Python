{
  "nbformat": 4,
  "nbformat_minor": 0,
  "metadata": {
    "colab": {
      "provenance": []
    },
    "kernelspec": {
      "name": "python3",
      "display_name": "Python 3"
    },
    "language_info": {
      "name": "python"
    }
  },
  "cells": [
    {
      "cell_type": "code",
      "execution_count": null,
      "metadata": {
        "id": "mhFZftixbAj4"
      },
      "outputs": [],
      "source": [
        "def doubleStuff(a_list):\n",
        "    \"\"\" Return a new list in which contains doubles of the elements in a_list. \"\"\"\n",
        "    new_list = []\n",
        "    for value in a_list:\n",
        "        new_elem = 2 * value\n",
        "        new_list.append(new_elem)\n",
        "    return new_list\n",
        "\n",
        "things = [2, 5, 9]\n",
        "print(things)\n",
        "things = doubleStuff(things)\n",
        "print(things)\n"
      ]
    },
    {
      "cell_type": "code",
      "source": [
        "def triple(value):\n",
        "    return 3*value\n",
        "\n",
        "def tripleStuff(a_list):\n",
        "    new_seq = map(triple, a_list)\n",
        "    return list(new_seq)\n",
        "\n",
        "def quadrupleStuff(a_list):\n",
        "    new_seq = map(lambda value: 4*value, a_list)\n",
        "    return list(new_seq)\n",
        "\n",
        "things = [2, 5, 9]\n",
        "things3 = tripleStuff(things)\n",
        "print(things3)\n",
        "things4 = quadrupleStuff(things)\n",
        "print(things4)\n"
      ],
      "metadata": {
        "id": "NlhpAh4Kbqxg"
      },
      "execution_count": null,
      "outputs": []
    },
    {
      "cell_type": "code",
      "source": [
        "things = [2, 5, 9]\n",
        "\n",
        "things4 = map((lambda value: 4*value), things)\n",
        "print(list(things4))\n",
        "\n",
        "# or all on one line\n",
        "print(list(map((lambda value: 5*value), [1, 2, 3])))\n"
      ],
      "metadata": {
        "id": "dwIGCOFLbwKj",
        "colab": {
          "base_uri": "https://localhost:8080/"
        },
        "outputId": "91201005-ef10-4c88-d607-f26e9562858b"
      },
      "execution_count": 1,
      "outputs": [
        {
          "output_type": "stream",
          "name": "stdout",
          "text": [
            "[8, 20, 36]\n",
            "[5, 10, 15]\n"
          ]
        }
      ]
    },
    {
      "cell_type": "markdown",
      "source": [
        "1. Using map, create a list assigned to the variable greeting_doubled that doubles each element in the list lst."
      ],
      "metadata": {
        "id": "ctzNxVIRb0nK"
      }
    },
    {
      "cell_type": "code",
      "source": [
        "\n",
        "lst = [[\"hi\", \"bye\"], \"hello\", \"goodbye\", [9, 2], 4]\n",
        "greeting_doubled = list(map(lambda x: x * 2, lst))\n",
        "\n",
        "print(greeting_doubled)\n"
      ],
      "metadata": {
        "id": "H-WU4MW7b2Fj"
      },
      "execution_count": null,
      "outputs": []
    },
    {
      "cell_type": "markdown",
      "source": [],
      "metadata": {
        "id": "L7oUFNIvjttg"
      }
    },
    {
      "cell_type": "code",
      "source": [
        "\n",
        "abbrevs = [\"usa\", \"esp\", \"chn\", \"jpn\", \"mex\", \"can\", \"rus\", \"rsa\", \"jam\"]\n",
        "\n",
        "abbrevs_upper = list(map(lambda str1: str1.upper(),abbrevs))\n",
        "print(abbrevs_upper)"
      ],
      "metadata": {
        "id": "OLZr2FSsjty4",
        "colab": {
          "base_uri": "https://localhost:8080/"
        },
        "outputId": "aeb2f672-64b4-491c-e197-9eb88d551ee5"
      },
      "execution_count": 2,
      "outputs": [
        {
          "output_type": "stream",
          "name": "stdout",
          "text": [
            "['USA', 'ESP', 'CHN', 'JPN', 'MEX', 'CAN', 'RUS', 'RSA', 'JAM']\n"
          ]
        }
      ]
    },
    {
      "cell_type": "code",
      "source": [
        "def keep_evens(nums):\n",
        "    new_list = []\n",
        "    for num in nums:\n",
        "        if num % 2 == 0:\n",
        "            new_list.append(num)\n",
        "    return new_list\n",
        "\n",
        "print(keep_evens([3, 4, 6, 7, 0, 1]))\n"
      ],
      "metadata": {
        "id": "PaZrSioRmesF"
      },
      "execution_count": null,
      "outputs": []
    },
    {
      "cell_type": "code",
      "source": [
        "def keep_evens(nums):\n",
        "    new_seq = filter(lambda num: num % 2 == 0, nums)\n",
        "    return list(new_seq)\n",
        "\n",
        "print(keep_evens([3, 4, 6, 7, 0, 1]))\n"
      ],
      "metadata": {
        "id": "tZqtHKq4mhWo"
      },
      "execution_count": null,
      "outputs": []
    },
    {
      "cell_type": "markdown",
      "source": [
        "Write code to assign to the variable filter_testing all the elements in lst_check that have a w in them using filter."
      ],
      "metadata": {
        "id": "9ec1_FbcmkI8"
      }
    },
    {
      "cell_type": "code",
      "source": [
        "lst_check = ['plums', 'watermelon', 'kiwi', 'strawberries', 'blueberries', 'peaches', 'apples', 'mangos', 'papaya']\n",
        "\n",
        "filter_testing = list(filter(lambda word: 'w' in word,lst_check))"
      ],
      "metadata": {
        "id": "fKUQ9U7Tmky-"
      },
      "execution_count": null,
      "outputs": []
    },
    {
      "cell_type": "markdown",
      "source": [
        "Using filter, filter lst so that it only contains words containing the letter “o”. Assign to variable lst2. Do not hardcode this."
      ],
      "metadata": {
        "id": "owUdh0k3oZTp"
      }
    },
    {
      "cell_type": "code",
      "source": [
        "\n",
        "lst = [\"witch\", \"halloween\", \"pumpkin\", \"cat\", \"candy\", \"wagon\", \"moon\"]\n",
        "\n",
        "lst2 = list(filter(lambda word: 'o' in word, lst))"
      ],
      "metadata": {
        "id": "1RG0kxGuoZgQ"
      },
      "execution_count": null,
      "outputs": []
    },
    {
      "cell_type": "code",
      "source": [
        "def keep_evens(nums):\n",
        "    new_list = [num for num in nums if num % 2 == 0]\n",
        "    return new_list\n",
        "\n",
        "print(keep_evens([3, 4, 6, 7, 0, 1]))\n"
      ],
      "metadata": {
        "id": "LENHgdeCopRj"
      },
      "execution_count": null,
      "outputs": []
    },
    {
      "cell_type": "code",
      "source": [
        "things = [3, 4, 6, 7, 0, 1]\n",
        "#chaining together filter and map:\n",
        "# first, filter to keep only the even numbers\n",
        "# double each of them\n",
        "print(map(lambda x: x*2, filter(lambda y: y % 2 == 0, things)))\n",
        "\n",
        "# equivalent version using list comprehension\n",
        "print([x*2 for x in things if x % 2 == 0])\n"
      ],
      "metadata": {
        "id": "8LBUaFbzowlE"
      },
      "execution_count": null,
      "outputs": []
    },
    {
      "cell_type": "markdown",
      "source": [
        "The for loop below produces a list of numbers greater than 10. Below the given code, use list comprehension to accomplish the same thing. Assign it the the variable lst2. Only one line of code is needed."
      ],
      "metadata": {
        "id": "IqEHLj7mpChc"
      }
    },
    {
      "cell_type": "code",
      "source": [
        "L = [12, 34, 21, 4, 6, 9, 42]\n",
        "lst = []\n",
        "for x in L:\n",
        "    if x > 10:\n",
        "        lst.append(x)\n",
        "print(lst)\n",
        "lst2=[]\n",
        "lst2 = [x for x in L if x > 10]"
      ],
      "metadata": {
        "id": "CvE6aU-spDEY"
      },
      "execution_count": null,
      "outputs": []
    },
    {
      "cell_type": "markdown",
      "source": [
        "Write code to assign to the variable compri all the values of the key name in any of the sub-dictionaries in the dictionary tester. Do this using a list comprehension."
      ],
      "metadata": {
        "id": "K4QkOvPT_owi"
      }
    },
    {
      "cell_type": "code",
      "source": [
        "tester = {'info': [{\"name\": \"Lauren\", 'class standing': 'Junior', 'major': \"Information Science\"},{'name': 'Ayo', 'class standing': \"Bachelor's\", 'major': 'Information Science'}, {'name': 'Kathryn', 'class standing': 'Senior', 'major': 'Sociology'}, {'name': 'Nick', 'class standing': 'Junior', 'major': 'Computer Science'}, {'name': 'Gladys', 'class standing': 'Sophomore', 'major': 'History'}, {'name': 'Adam', 'major': 'Violin Performance', 'class standing': 'Senior'}]}\n",
        "\n",
        "inner_list = tester['info']\n",
        "print(inner_list)\n",
        "\n",
        "compri = (d['name'] for d in inner_list)"
      ],
      "metadata": {
        "id": "lOSmx5wF_o_B"
      },
      "execution_count": null,
      "outputs": []
    },
    {
      "cell_type": "code",
      "source": [
        "def possible(word, blanked, guesses_made):\n",
        "    if len(word) != len(blanked):\n",
        "        return False\n",
        "    for (bc, wc) in zip(blanked, word):\n",
        "        if bc == '_' and wc in guesses_made:\n",
        "            return False\n",
        "        elif bc != '_' and bc != wc:\n",
        "            return False\n",
        "    return True\n",
        "\n",
        "print(possible(\"wonderwall\", \"_on__r__ll\", \"otnqurl\"))\n",
        "print(possible(\"wonderwall\", \"_on__r__ll\", \"wotnqurl\"))\n",
        "\n"
      ],
      "metadata": {
        "id": "oCn_LJwm_tPK"
      },
      "execution_count": null,
      "outputs": []
    },
    {
      "cell_type": "code",
      "source": [
        "def possible(word, blanked, guesses_made):\n",
        "    if len(word) != len(blanked):\n",
        "        return False\n",
        "    for i in range(len(word)):\n",
        "        bc = blanked[i]\n",
        "        wc = word[i]\n",
        "        if bc == '_' and wc in guesses_made:\n",
        "            return False\n",
        "        elif bc != '_' and bc != wc:\n",
        "            return False\n",
        "    return True\n",
        "\n",
        "print(possible(\"wonderwall\", \"_on__r__ll\", \"otnqurl\"))\n",
        "print(possible(\"wonderwall\", \"_on__r__ll\", \"wotnqurl\"))"
      ],
      "metadata": {
        "id": "NrXlGeiU_zu9"
      },
      "execution_count": null,
      "outputs": []
    }
  ]
}